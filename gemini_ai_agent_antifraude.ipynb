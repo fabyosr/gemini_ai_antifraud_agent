{
  "nbformat": 4,
  "nbformat_minor": 0,
  "metadata": {
    "colab": {
      "provenance": []
    },
    "kernelspec": {
      "name": "python3",
      "display_name": "Python 3"
    },
    "language_info": {
      "name": "python"
    }
  },
  "cells": [
    {
      "cell_type": "markdown",
      "source": [
        "# AI Agent - AntiFraud Agent"
      ],
      "metadata": {
        "id": "IeHnQlLVi6pb"
      }
    },
    {
      "cell_type": "markdown",
      "source": [
        "## Install"
      ],
      "metadata": {
        "id": "MJXVO7VNjVZ1"
      }
    },
    {
      "cell_type": "code",
      "source": [
        "!pip -q install google-genai"
      ],
      "metadata": {
        "id": "UCCbECexLk_h"
      },
      "execution_count": 1,
      "outputs": []
    },
    {
      "cell_type": "code",
      "source": [
        "!pip install -q google-adk"
      ],
      "metadata": {
        "colab": {
          "base_uri": "https://localhost:8080/"
        },
        "id": "u27ySkfOjSS7",
        "outputId": "c94bf3d1-88a7-4067-9b68-6ae833d1e8d1"
      },
      "execution_count": 2,
      "outputs": [
        {
          "output_type": "stream",
          "name": "stdout",
          "text": [
            "\u001b[?25l   \u001b[90m━━━━━━━━━━━━━━━━━━━━━━━━━━━━━━━━━━━━━━━━\u001b[0m \u001b[32m0.0/1.2 MB\u001b[0m \u001b[31m?\u001b[0m eta \u001b[36m-:--:--\u001b[0m\r\u001b[2K   \u001b[91m━━━━━━━━━━━━━━━━━━━━\u001b[0m\u001b[90m╺\u001b[0m\u001b[90m━━━━━━━━━━━━━━━━━━━\u001b[0m \u001b[32m0.6/1.2 MB\u001b[0m \u001b[31m18.3 MB/s\u001b[0m eta \u001b[36m0:00:01\u001b[0m\r\u001b[2K   \u001b[90m━━━━━━━━━━━━━━━━━━━━━━━━━━━━━━━━━━━━━━━━\u001b[0m \u001b[32m1.2/1.2 MB\u001b[0m \u001b[31m18.2 MB/s\u001b[0m eta \u001b[36m0:00:00\u001b[0m\n",
            "\u001b[?25h\u001b[?25l   \u001b[90m━━━━━━━━━━━━━━━━━━━━━━━━━━━━━━━━━━━━━━━━\u001b[0m \u001b[32m0.0/232.1 kB\u001b[0m \u001b[31m?\u001b[0m eta \u001b[36m-:--:--\u001b[0m\r\u001b[2K   \u001b[90m━━━━━━━━━━━━━━━━━━━━━━━━━━━━━━━━━━━━━━━━\u001b[0m \u001b[32m232.1/232.1 kB\u001b[0m \u001b[31m19.8 MB/s\u001b[0m eta \u001b[36m0:00:00\u001b[0m\n",
            "\u001b[?25h\u001b[?25l   \u001b[90m━━━━━━━━━━━━━━━━━━━━━━━━━━━━━━━━━━━━━━━━\u001b[0m \u001b[32m0.0/95.2 kB\u001b[0m \u001b[31m?\u001b[0m eta \u001b[36m-:--:--\u001b[0m\r\u001b[2K   \u001b[90m━━━━━━━━━━━━━━━━━━━━━━━━━━━━━━━━━━━━━━━━\u001b[0m \u001b[32m95.2/95.2 kB\u001b[0m \u001b[31m8.4 MB/s\u001b[0m eta \u001b[36m0:00:00\u001b[0m\n",
            "\u001b[2K   \u001b[90m━━━━━━━━━━━━━━━━━━━━━━━━━━━━━━━━━━━━━━━━\u001b[0m \u001b[32m217.1/217.1 kB\u001b[0m \u001b[31m19.0 MB/s\u001b[0m eta \u001b[36m0:00:00\u001b[0m\n",
            "\u001b[2K   \u001b[90m━━━━━━━━━━━━━━━━━━━━━━━━━━━━━━━━━━━━━━━━\u001b[0m \u001b[32m334.1/334.1 kB\u001b[0m \u001b[31m24.3 MB/s\u001b[0m eta \u001b[36m0:00:00\u001b[0m\n",
            "\u001b[2K   \u001b[90m━━━━━━━━━━━━━━━━━━━━━━━━━━━━━━━━━━━━━━━━\u001b[0m \u001b[32m125.1/125.1 kB\u001b[0m \u001b[31m11.6 MB/s\u001b[0m eta \u001b[36m0:00:00\u001b[0m\n",
            "\u001b[2K   \u001b[90m━━━━━━━━━━━━━━━━━━━━━━━━━━━━━━━━━━━━━━━━\u001b[0m \u001b[32m65.8/65.8 kB\u001b[0m \u001b[31m6.0 MB/s\u001b[0m eta \u001b[36m0:00:00\u001b[0m\n",
            "\u001b[2K   \u001b[90m━━━━━━━━━━━━━━━━━━━━━━━━━━━━━━━━━━━━━━━━\u001b[0m \u001b[32m119.0/119.0 kB\u001b[0m \u001b[31m10.6 MB/s\u001b[0m eta \u001b[36m0:00:00\u001b[0m\n",
            "\u001b[2K   \u001b[90m━━━━━━━━━━━━━━━━━━━━━━━━━━━━━━━━━━━━━━━━\u001b[0m \u001b[32m194.9/194.9 kB\u001b[0m \u001b[31m16.1 MB/s\u001b[0m eta \u001b[36m0:00:00\u001b[0m\n",
            "\u001b[2K   \u001b[90m━━━━━━━━━━━━━━━━━━━━━━━━━━━━━━━━━━━━━━━━\u001b[0m \u001b[32m62.5/62.5 kB\u001b[0m \u001b[31m5.6 MB/s\u001b[0m eta \u001b[36m0:00:00\u001b[0m\n",
            "\u001b[2K   \u001b[90m━━━━━━━━━━━━━━━━━━━━━━━━━━━━━━━━━━━━━━━━\u001b[0m \u001b[32m103.3/103.3 kB\u001b[0m \u001b[31m10.2 MB/s\u001b[0m eta \u001b[36m0:00:00\u001b[0m\n",
            "\u001b[2K   \u001b[90m━━━━━━━━━━━━━━━━━━━━━━━━━━━━━━━━━━━━━━━━\u001b[0m \u001b[32m44.4/44.4 kB\u001b[0m \u001b[31m4.4 MB/s\u001b[0m eta \u001b[36m0:00:00\u001b[0m\n",
            "\u001b[2K   \u001b[90m━━━━━━━━━━━━━━━━━━━━━━━━━━━━━━━━━━━━━━━━\u001b[0m \u001b[32m72.0/72.0 kB\u001b[0m \u001b[31m5.8 MB/s\u001b[0m eta \u001b[36m0:00:00\u001b[0m\n",
            "\u001b[?25h"
          ]
        }
      ]
    },
    {
      "cell_type": "markdown",
      "source": [
        "# Imports"
      ],
      "metadata": {
        "id": "XQpZysLKjF1m"
      }
    },
    {
      "cell_type": "code",
      "source": [
        "# Configura a API Key do Google Gemini\n",
        "\n",
        "import os\n",
        "from google.colab import userdata\n",
        "from google import genai\n",
        "from IPython.display import HTML, Markdown\n",
        "from google.adk.agents import Agent\n",
        "from google.adk.runners import Runner\n",
        "from google.adk.sessions import InMemorySessionService\n",
        "from google.adk.tools import google_search\n",
        "from google.genai import types  # Para criar conteúdos (Content e Part)\n",
        "from datetime import date\n",
        "import textwrap # Para formatar melhor a saída de texto\n",
        "from IPython.display import display, Markdown # Para exibir texto formatado no Colab\n",
        "import requests # Para fazer requisições HTTP\n",
        "import warnings"
      ],
      "metadata": {
        "id": "NfCqHo1tLk8P"
      },
      "execution_count": 3,
      "outputs": []
    },
    {
      "cell_type": "markdown",
      "source": [
        "# Setup"
      ],
      "metadata": {
        "id": "Wd8GVqUGkiV-"
      }
    },
    {
      "cell_type": "code",
      "source": [
        "warnings.filterwarnings(\"ignore\")\n",
        "os.environ[\"GOOGLE_API_KEY\"] = userdata.get('GOOGLE_API_KEY')\n",
        "\n",
        "# Configura o cliente da SDK do Gemini\n",
        "client = genai.Client()\n",
        "MODEL_ID = \"gemini-2.0-flash\""
      ],
      "metadata": {
        "id": "bReH5M4gklQK"
      },
      "execution_count": 5,
      "outputs": []
    },
    {
      "cell_type": "markdown",
      "source": [
        "# Functions"
      ],
      "metadata": {
        "id": "lJ8zDF0kkYwl"
      }
    },
    {
      "cell_type": "code",
      "source": [
        "# Função auxiliar que envia uma mensagem para um agente via Runner e retorna a resposta final\n",
        "def call_agent(agent: Agent, message_text: str) -> str:\n",
        "    # Cria um serviço de sessão em memória\n",
        "    session_service = InMemorySessionService()\n",
        "    # Cria uma nova sessão (você pode personalizar os IDs conforme necessário)\n",
        "    session = session_service.create_session(app_name=agent.name, user_id=\"user1\", session_id=\"session1\")\n",
        "    # Cria um Runner para o agente\n",
        "    runner = Runner(agent=agent, app_name=agent.name, session_service=session_service)\n",
        "    # Cria o conteúdo da mensagem de entrada\n",
        "    content = types.Content(role=\"user\", parts=[types.Part(text=message_text)])\n",
        "\n",
        "    final_response = \"\"\n",
        "    # Itera assincronamente pelos eventos retornados durante a execução do agente\n",
        "    for event in runner.run(user_id=\"user1\", session_id=\"session1\", new_message=content):\n",
        "        if event.is_final_response():\n",
        "          for part in event.content.parts:\n",
        "            if part.text is not None:\n",
        "              final_response += part.text\n",
        "              final_response += \"\\n\"\n",
        "    return final_response\n",
        "\n",
        "# Função auxiliar para exibir texto formatado em Markdown no Colab\n",
        "def to_markdown(text):\n",
        "  text = text.replace('•', '  *')\n",
        "  return Markdown(textwrap.indent(text, '> ', predicate=lambda _: True))"
      ],
      "metadata": {
        "id": "BOt6TWAKkcqN"
      },
      "execution_count": 6,
      "outputs": []
    },
    {
      "cell_type": "markdown",
      "source": [
        "# Agent 1 - Core-AntiFraud"
      ],
      "metadata": {
        "id": "bsoUSQjck2_G"
      }
    },
    {
      "cell_type": "code",
      "source": [
        "##########################################\n",
        "# --- Agente 1: Agente Principal: Classificador de fraudes (CORE-ANTIFRAUD) --- #\n",
        "##########################################\n",
        "\n",
        "def agente_core_antifraud(topico):\n",
        "\n",
        "    core_antifraud = Agent(\n",
        "        name=\"agente_core_antifraude\",\n",
        "        model=\"gemini-2.0-flash\",\n",
        "        instruction=\"\"\"\n",
        "        Você é um assistente especialista em anti fraudes. A sua tarefa é avaliar o tópico e determimnar se há indícios de padrões de golpes e engenharia social sendo aplicada no tópico.\n",
        "        Após essa análise, gere um relatório sobre o counteúdo e sua conclusão, como golpe provável, suspeito, seguro ou indeterminado.\n",
        "        Detecte padrões linguísticos típicos de engenharia social (urgência, medo, recompensa fácil, prazo final, você ganhou). Avalie o tom emocional/manipulativo.\n",
        "        Junto do seu relatório final deve constar um prompt que será enviado para um agente de inteligência artificial que fará buscas sobre golpes similares na internet,\n",
        "        este prompt final deve ser trabalhdo para que a busca na internet retorne resultados relevantes e com casos similares de golpes,\n",
        "        anexe ao prompt a mensagem principal da fraude, com textos mais suspeitos, url, links, e-mails, números de telefones, cpf, cnpj, domínios, redes sociais caso sejam informados.\n",
        "        \"\"\",\n",
        "        description=\"Agente CORE-ANTIFRAUD, que avalia o texto em busca de padrôes de fraude e engenharia social\",\n",
        "        tools=[google_search]\n",
        "    )\n",
        "\n",
        "    entrada_do_agente_core_antifraud = f\"Tópico: {topico}\"\n",
        "\n",
        "    lancamentos = call_agent(core_antifraud, entrada_do_agente_core_antifraud)\n",
        "    return lancamentos"
      ],
      "metadata": {
        "id": "bV4w0H5TLk5g"
      },
      "execution_count": 7,
      "outputs": []
    },
    {
      "cell_type": "markdown",
      "source": [
        "# Agente 2 - Agente especialista em buscas na internet"
      ],
      "metadata": {
        "id": "sVeFWF_HoUzg"
      }
    },
    {
      "cell_type": "code",
      "execution_count": 10,
      "metadata": {
        "id": "aePV2bdfDeoW"
      },
      "outputs": [],
      "source": [
        "################################################\n",
        "# --- Agente 2: Especialista em buscas na internet --- #\n",
        "################################################\n",
        "\n",
        "def agente_buscador(topico, lancamentos_buscados):\n",
        "    buscador = Agent(\n",
        "        name=\"agente_buscador\",\n",
        "        model=\"gemini-2.0-flash\",\n",
        "        # Inserir as instruções do Agente Planejador #################################################\n",
        "        instruction=\"\"\"\n",
        "        Você é um especialista em investigação com forte expertise em consultas de golpes e fraudes em geral, você deve:\n",
        "        usar a ferramenta de busca do Google (google_search) para identificar golpes similares ao proposto no tópico,\n",
        "        Você também pode usar o (google_search) para encontrar mais informações sobre os temas e aprofundar.\n",
        "\n",
        "        consultandos sites sobre fraudes, golpes, banco de dados de phishing, malwares, serviços como virustotal, google safe browsing,\n",
        "        abuseipdb e serviços similares. verifique se as url, links, e-mails, números de telefones, cpf, cnpj, domínios, redes sociais, caso sejam informados no tópico, são suspeitos ou maliciosos.\n",
        "        Aponte falsificações, domínios parecidos, e-mails spoofados. analise fóruns, sites de reclamções, redes sociais.\n",
        "\n",
        "        Ao final, você irá escolher os temas mais relevante e similares ao tópico com base nas suas pesquisas\n",
        "        e retornar esses temas, seus pontos mais relevantes, e um plano com os assuntos\n",
        "        a serem abordados no post que será escrito posteriormente. Faça um resumo do tópico com sua análise.\n",
        "        Este texto final deve conter um prompt que será enviado para um agente de inteligência artificial que fará fará uma análise contextual do seu texto final.\n",
        "        \"\"\",\n",
        "        description=\"Agente especialista em busca de internet\",\n",
        "        tools=[google_search]\n",
        "    )\n",
        "\n",
        "    entrada_do_agente_buscador = f\"Tópico:{topico}\\nLançamentos buscados: {lancamentos_buscados}\"\n",
        "    # Executa o agente\n",
        "    busca_result = call_agent(buscador, entrada_do_agente_buscador)\n",
        "    return busca_result"
      ]
    },
    {
      "cell_type": "markdown",
      "source": [
        "# Agente 3 - Agente Contextual"
      ],
      "metadata": {
        "id": "QGX6DE5gsW1D"
      }
    },
    {
      "cell_type": "code",
      "source": [
        "################################################\n",
        "# --- Agente 2: Contextual --- #\n",
        "################################################\n",
        "\n",
        "def agente_contextual(topico, busca_result):\n",
        "    contextual = Agent(\n",
        "        name=\"agente_buscador\",\n",
        "        model=\"gemini-2.0-flash\",\n",
        "        # Inserir as instruções do Agente Planejador #################################################\n",
        "        instruction=\"\"\"\n",
        "        Você é um especialista em investigação com forte expertise em consultas de golpes e fraudes em geral,\n",
        "        o tópico em questão é resultado de um trabalho de investigação de um agente de inteligência artificial especialista em investigação de golpes e fraudes,\n",
        "        você deve:\n",
        "        analisar o tópico em busca de padrões de fraudes e golpes, comparando o conteúdo com padrões legais ou práticas legítimas:\n",
        "\n",
        "        ####\n",
        "\n",
        "        exemplos:\n",
        "        Ofertas de trabalhos não solicitadas com salários irreais.\n",
        "        Pedidos de pagamentos antecipados por \"taxasa administrativas\".\n",
        "        Empréstimos que exigem depósito prévio.\n",
        "\n",
        "        Analise o tópico e verifique se o mesmo se encaixa em uma tentativa de golpe e faça uma conclusão se o mesmo é um golpe provável, suspeito, seguro ou indeterminado.\n",
        "        \"\"\",\n",
        "        description=\"Agente especialista em busca de internet\",\n",
        "        tools=[google_search]\n",
        "    )\n",
        "\n",
        "    entrada_do_agente_contextual = f\"Tópico:{topico}\\nResultados buscados: {busca_result}\"\n",
        "    # Executa o agente\n",
        "    final_result = call_agent(contextual, entrada_do_agente_contextual)\n",
        "    return final_result"
      ],
      "metadata": {
        "id": "_xP4lWhsS5ko"
      },
      "execution_count": 9,
      "outputs": []
    },
    {
      "cell_type": "code",
      "source": [
        "print(\"🚀 Iniciando o Sistema de Detecção de golpes e fraudes com 3 Agentes 🚀\")\n",
        "\n",
        "# --- Obter o Tópico do Usuário ---\n",
        "topico = input(\"❓ Por favor, digite o TÓPICO sobre o qual você quer verificar golpes e fraudes: \")\n",
        "\n",
        "# Inserir lógica do sistema de agentes ################################################\n",
        "if not topico:\n",
        "    print(\"Você esqueceu de digitar o tópico!\")\n",
        "else:\n",
        "    print(f\"Maravilha! Vamos verificar se a mensagem informada se trata de um fraude ou golpe. {topico}\")\n",
        "\n",
        "    result_agent_core_antifraud = agente_core_antifraud(topico)\n",
        "    print(\"\\n--- 📝 Resultado do Agente 1 (core_antifraud) ---\\n\")\n",
        "    display(to_markdown(result_agent_core_antifraud))\n",
        "    print(\"--------------------------------------------------------------\\n\\n\")\n",
        "\n",
        "    result_agent_buscador = agente_buscador(topico, result_agent_core_antifraud)\n",
        "    print(\"\\n--- 📝 Resultado do Agente 2 (buscador) ---\\n\")\n",
        "    display(to_markdown(result_agent_buscador))\n",
        "    print(\"--------------------------------------------------------------\\n\\n\")\n",
        "\n",
        "    result_agent_contextual = agente_contextual(topico, result_agent_buscador)\n",
        "    print(\"\\n--- 📝 Resultado do Agente 3 (Contextual) ---\\n\")\n",
        "    display(to_markdown(result_agent_contextual))\n",
        "    print(\"--------------------------------------------------------------\")"
      ],
      "metadata": {
        "colab": {
          "base_uri": "https://localhost:8080/",
          "height": 1000
        },
        "id": "6xzI6LKzxxnN",
        "outputId": "b791d73b-94c6-4f37-989d-78adae834a46"
      },
      "execution_count": 17,
      "outputs": [
        {
          "output_type": "stream",
          "name": "stdout",
          "text": [
            "🚀 Iniciando o Sistema de Detecção de golpes e fraudes com 3 Agentes 🚀\n",
            "❓ Por favor, digite o TÓPICO sobre o qual você quer verificar golpes e fraudes: recebi a seguinte mensagem e gostaria de saber se é um golpe:  ### mensagem:  Bradescard: Converta sus 66.261 pontos em benefícios exclusivos! Aproveite itens, viagens e abatimentos na fatura. Acesse o link liberadormilhas.com/7h\n",
            "Maravilha! Vamos verificar se a mensagem informada se trata de um fraude ou golpe. recebi a seguinte mensagem e gostaria de saber se é um golpe:  ### mensagem:  Bradescard: Converta sus 66.261 pontos em benefícios exclusivos! Aproveite itens, viagens e abatimentos na fatura. Acesse o link liberadormilhas.com/7h\n",
            "\n",
            "--- 📝 Resultado do Agente 1 (core_antifraud) ---\n",
            "\n"
          ]
        },
        {
          "output_type": "display_data",
          "data": {
            "text/plain": [
              "<IPython.core.display.Markdown object>"
            ],
            "text/markdown": "> Aqui está uma avaliação da mensagem que você recebeu, focada na identificação de possíveis elementos de golpe ou engenharia social:\n> \n> **Análise:**\n> \n> *   **Urgência e Recompensa:** A mensagem tenta criar um senso de urgência (\"Aproveite\") combinada com a promessa de benefícios exclusivos. Essa é uma tática comum para atrair a atenção e levar a pessoa a agir impulsivamente.\n> *   **Valor Específico:** O valor exato de pontos (66.261) pode parecer específico e, portanto, mais legítimo. No entanto, golpistas frequentemente usam números aleatórios para dar credibilidade.\n> *   **Link Suspeito:** O domínio \"liberadormilhas.com\" não parece ser um domínio oficial do Bradescard. Golpistas frequentemente usam URLs ligeiramente diferentes dos originais para enganar as pessoas (phishing).\n> *   **Genérico:** A mensagem é genérica, poderia ser enviada para qualquer pessoa que tenha um cartão Bradescard.\n> \n> **Relatório:**\n> \n> *   **Conclusão:** Suspeito. Há vários indicadores que sugerem que esta mensagem pode ser uma tentativa de golpe (phishing). O link suspeito e a combinação de urgência com recompensa são sinais de alerta.\n> *   **Padrões de Engenharia Social:** A mensagem explora o desejo de obter vantagens (milhas, viagens) e a possível ansiedade de perder uma oportunidade.\n> \n> **Prompt para Agente de Inteligência Artificial:**\n> \n> Para auxiliar na identificação de golpes similares, sugiro o seguinte prompt para um agente de inteligência artificial especializado em buscas na internet:\n> \n> \n> ```\n> Identifique e liste casos de golpes e phishing que utilizam mensagens SMS ou e-mail com as seguintes características:\n> \n> *   Remetente se passando pelo Bradescard ou outras instituições financeiras.\n> *   Promessa de conversão de pontos de programas de fidelidade em benefícios (viagens, descontos).\n> *   Utilização de links encurtados ou domínios que não correspondem ao site oficial da instituição.\n> *   Foco em criar um senso de urgência para que o usuário clique no link e forneça dados pessoais ou financeiros.\n> *   Mencione o domínio \"liberadormilhas.com\".\n> \n> Inclua na busca os seguintes termos e informações da mensagem original:\n> \n> *   \"Bradescard\"\n> *   \"Converter pontos em benefícios\"\n> *   \"liberadormilhas.com\"\n> *   \"66.261 pontos\"\n> *   \"SMS\"\n> *   \"Phishing\"\n> ```\n> \n> \n> Recomendações Adicionais:\n> \n> *   **Não clique no link:** Se você tiver qualquer dúvida sobre a legitimidade da mensagem, não clique no link.\n> *   **Verifique Diretamente:** Entre em contato com o Bradescard através dos canais oficiais (site, aplicativo, telefone) para verificar se a mensagem é verdadeira.\n> *   **Denuncie:** Se você suspeitar de um golpe, denuncie às autoridades competentes e ao Bradescard.\n> \n"
          },
          "metadata": {}
        },
        {
          "output_type": "stream",
          "name": "stdout",
          "text": [
            "--------------------------------------------------------------\n",
            "\n",
            "\n",
            "\n",
            "--- 📝 Resultado do Agente 2 (buscador) ---\n",
            "\n"
          ]
        },
        {
          "output_type": "display_data",
          "data": {
            "text/plain": [
              "<IPython.core.display.Markdown object>"
            ],
            "text/markdown": "> Com base na análise fornecida, a mensagem recebida tem características que a classificam como suspeita de ser um golpe. Para aprofundar a investigação, realizei as seguintes buscas:\n> \n> \n> ### Resumo da Análise:\n> \n> A mensagem recebida se encaixa em um padrão de golpes e phishing que utilizam o nome de instituições financeiras como o Bradescard, com o objetivo de roubar dados pessoais e financeiros dos usuários. As principais características desse tipo de golpe incluem:\n> \n> *   **Remetente:** Se passando pelo Bradescard ou outra instituição financeira.\n> *   **Isca:** Promessa de conversão de pontos de programas de fidelidade em benefícios (viagens, descontos, dinheiro).\n> *   **Meio:** Utilização de mensagens SMS ou e-mail.\n> *   **Link Malicioso:** Utilização de links encurtados ou domínios que não correspondem ao site oficial da instituição (ex: liberadormilhas.com).\n> *   **Urgência:** Foco em criar um senso de urgência para que o usuário clique no link e forneça dados rapidamente.\n> \n> A análise das buscas revelou diversos casos semelhantes envolvendo o Bradesco e outros bancos, nos quais os golpistas utilizam a mesma estratégia de oferecer vantagens em troca de informações pessoais. O domínio \"liberadormilhas.com\" é um forte indicador de fraude.\n> \n> ### Temas Relevantes:\n> \n> 1.  **Golpes de Phishing com Milhas/Pontos:** Análise detalhada de como esses golpes funcionam, exemplos de mensagens e sites falsos.\n> 2.  **Smishing (Phishing por SMS):** Como identificar e se proteger de golpes que chegam por SMS, com foco em mensagens que usam nomes de bancos e programas de fidelidade.\n> 3.  **Domínios Suspeitos e Encurtadores de URL:** Como verificar a legitimidade de um domínio e os riscos de clicar em links encurtados.\n> 4.  **Engenharia Social:** As táticas psicológicas utilizadas pelos golpistas para manipular as vítimas (urgência, medo de perder uma oportunidade).\n> 5.  **Alertas e Prevenção:** O que o Bradesco e outras instituições financeiras recomendam para evitar cair nesses golpes.\n> 6.  **O que fazer se cair no golpe:** Passos a seguir caso você tenha fornecido seus dados em um site falso.\n> \n> ### Plano para o Post:\n> \n> 1.  **Introdução:** Explicar o golpe recebido e por que ele é suspeito (urgência, link estranho, etc.).\n> 2.  **O que é Phishing e Smishing:** Definir os termos e explicar como esses golpes funcionam.\n> 3.  **Exemplos de Golpes com Milhas/Pontos:** Mostrar exemplos de mensagens e sites falsos que utilizam essa isca.\n> 4.  **Como Identificar um Domínio Suspeito:** Explicar como verificar a legitimidade de um domínio e os riscos de clicar em links encurtados.\n> 5.  **Táticas de Engenharia Social:** Detalhar as táticas psicológicas utilizadas pelos golpistas (urgência, medo de perder uma oportunidade) e como elas funcionam.\n> 6.  **Recomendações de Segurança do Bradesco:** Listar as dicas de segurança fornecidas pelo Bradesco e outras instituições financeiras.\n> 7.  **O que Fazer se Cair no Golpe:** Explicar os passos a seguir caso você tenha fornecido seus dados em um site falso (notificar o banco, trocar senhas, registrar um boletim de ocorrência).\n> 8.  **Como Denunciar:** Informar como denunciar o golpe às autoridades competentes e ao Bradesco.\n> 9.  **Conclusão:** Reforçar a importância de estar sempre atento e desconfiar de mensagens que oferecem vantagens em troca de informações pessoais.\n> \n> ### Prompt para Agente de Inteligência Artificial:\n> \n> \n> ```\n> Analise o seguinte texto sobre um possível golpe envolvendo o Bradescard e um link suspeito (liberadormilhas.com):\n> \n> [Texto da análise acima]\n> \n> Com base nessa análise, gere um conteúdo informativo e educativo sobre como identificar e se proteger de golpes de phishing e smishing que utilizam o nome de instituições financeiras e programas de fidelidade. O conteúdo deve incluir:\n> \n> *   Uma explicação detalhada de como esses golpes funcionam, com exemplos de mensagens e sites falsos.\n> *   Dicas práticas para verificar a legitimidade de um domínio e identificar links suspeitos.\n> *   Uma análise das táticas de engenharia social utilizadas pelos golpistas para manipular as vítimas.\n> *   Recomendações de segurança do Bradesco e outras instituições financeiras.\n> *   Instruções sobre o que fazer se você cair no golpe, incluindo como notificar o banco, trocar senhas e registrar um boletim de ocorrência.\n> *   Informações sobre como denunciar o golpe às autoridades competentes.\n> \n> O objetivo é criar um guia completo e fácil de entender que ajude os usuários a se protegerem contra esses tipos de fraude.\n> ```\n"
          },
          "metadata": {}
        },
        {
          "output_type": "stream",
          "name": "stdout",
          "text": [
            "--------------------------------------------------------------\n",
            "\n",
            "\n",
            "\n",
            "--- 📝 Resultado do Agente 3 (Contextual) ---\n",
            "\n"
          ]
        },
        {
          "output_type": "display_data",
          "data": {
            "text/plain": [
              "<IPython.core.display.Markdown object>"
            ],
            "text/markdown": "> Com base na análise fornecida, a mensagem que você recebeu é **altamente suspeita** de ser um golpe. As características da mensagem (uso do nome Bradescard, promessa de benefícios por pontos, link suspeito) se alinham com padrões de phishing e smishing já identificados.\n> \n> Para sua segurança, **não clique no link** `liberadormilhas.com/7h` e **não forneça nenhuma informação pessoal** que possa ser solicitada em uma página que se abra a partir desse link.\n> \n> A seguir, um resumo dos pontos que indicam ser um golpe e o que fazer para se proteger:\n> \n> *   **Domínio suspeito:** O link `liberadormilhas.com` não parece ser um domínio oficial do Bradescard. Domínios oficiais de bancos geralmente incluem o nome do banco de forma clara e não utilizam encurtadores de URL.\n> *   **Urgência:** Golpistas frequentemente criam um senso de urgência para que você aja impulsivamente, sem verificar a legitimidade da oferta.\n> *   **Phishing/Smishing:** Este é um golpe clássico de phishing (se enviado por e-mail) ou smishing (se enviado por SMS), onde criminosos se passam por instituições legítimas para roubar seus dados.\n> \n> **O que fazer para se proteger:**\n> \n> 1.  **Desconfie de ofertas:** Sempre desconfie de mensagens não solicitadas que oferecem vantagens ou benefícios em troca de informações pessoais.\n> 2.  **Verifique o remetente:** Verifique se o remetente da mensagem é um endereço de e-mail ou número de telefone oficial do Bradescard.\n> 3.  **Não clique em links:** Nunca clique em links suspeitos. Em vez disso, acesse o site oficial do Bradescard digitando o endereço diretamente no seu navegador.\n> 4.  **Contate o Bradescard:** Em caso de dúvida, entre em contato com o Bradescard por meio dos canais de atendimento oficiais (telefone, site) para verificar a veracidade da mensagem.\n> 5.  **Proteja seus dados:** Nunca forneça informações pessoais (senhas, números de cartão de crédito, etc.) em sites ou formulários suspeitos.\n> 6.  **Mantenha seu software atualizado:** Mantenha seu sistema operacional, navegador e antivírus sempre atualizados para se proteger contra malware e outras ameaças.\n> \n> **Se você já clicou no link ou forneceu dados:**\n> \n> 1.  **Contate o Bradescard imediatamente:** Informe o banco sobre o ocorrido e siga as orientações fornecidas.\n> 2.  **Troque suas senhas:** Altere as senhas de todas as suas contas online, especialmente as contas bancárias e de e-mail.\n> 3.  **Monitore suas contas:** Fique atento a qualquer atividade suspeita em suas contas bancárias e de cartão de crédito.\n> 4.  **Registre um boletim de ocorrência:** Denuncie o golpe à polícia, registrando um boletim de ocorrência.\n> \n> Em resumo, a mensagem que você recebeu é **provavelmente um golpe**. Siga as dicas acima para se proteger e evitar ser vítima de fraudes.\n> \n"
          },
          "metadata": {}
        },
        {
          "output_type": "stream",
          "name": "stdout",
          "text": [
            "--------------------------------------------------------------\n"
          ]
        }
      ]
    },
    {
      "cell_type": "markdown",
      "source": [
        "# Exemplos de golpes\n",
        "\n",
        "Exemplo 1:\n",
        "\n",
        "recebi a seguinte mensagem e gostaria de saber se é um golpe:\n",
        "\n",
        "###\n",
        "mensagem:\n",
        "\n",
        "Olá você acabou de ganhar um prêmio no valor de R$ 3.500,00. Par retirar o seu prêmio envie um pix de R$ 100,00 para a cahve pix 12345678988, este valor se refera a taxa de imposto de renda.\n",
        "\n",
        "exemplo 2:\n",
        "\n",
        "recebi a seguinte mensagem e gostaria de saber se é um golpe:\n",
        "\n",
        "###\n",
        "mensagem:\n",
        "\n",
        "Olá aqui é da floricultura \"Flor do Amor\", estamos enviando um bouquet de rosas de cortesia, para recebê-lo basta pagar uma taxa de frete de R$ 5,00 ao motoboy, essa taxa deve ser paga via cartão de crédito.\n",
        "\n",
        "exemplos 3:\n",
        "\n",
        "recebi a seguinte mensagem e gostaria de saber se é um golpe:\n",
        "\n",
        "###\n",
        "mensagem:\n",
        "\n",
        "Olá aqui é do banco do brasil, estamos ligando para confirmar se você fez uma compra no valor de R$ 5000,00. Caso não tenha sido você digite 2 para falar direto com nossa central de atendimento, pois essa compra parece suspeita e o seu cartão será bloqueado. Caso tenha sido você, desconsidere esta mensagem.\n",
        "\n",
        "\n",
        "exemplos 4\n",
        "\n",
        "recebi a seguinte mensagem e gostaria de saber se é um golpe:\n",
        "\n",
        "###\n",
        "mensagem:\n",
        "\n",
        "Bradescard: Converta sus 66.261 pontos em benefícios exclusivos! Aproveite itens, viagens e abatimentos na fatura.\n",
        "Acesse o link liberadormilhas.com/7h"
      ],
      "metadata": {
        "id": "3nEFlEcM1tnP"
      }
    },
    {
      "cell_type": "code",
      "source": [],
      "metadata": {
        "id": "GDDUmhru1z4f"
      },
      "execution_count": null,
      "outputs": []
    }
  ]
}